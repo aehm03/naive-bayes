{
 "cells": [
  {
   "cell_type": "code",
   "execution_count": 263,
   "id": "03a6bf85",
   "metadata": {},
   "outputs": [],
   "source": [
    "import numpy as np\n",
    "import matplotlib.pyplot as plt\n",
    "import seaborn as sns\n",
    "\n",
    "from itertools import chain\n",
    "import struct"
   ]
  },
  {
   "cell_type": "code",
   "execution_count": null,
   "id": "cfbbaeeb",
   "metadata": {},
   "outputs": [],
   "source": [
    "files = ['t10k-images-idx3-ubyte'  't10k-labels-idx1-ubyte'  'train-images-idx3-ubyte train-labels-idx1-ubyte]"
   ]
  },
  {
   "cell_type": "code",
   "execution_count": 196,
   "id": "0860fd08",
   "metadata": {},
   "outputs": [],
   "source": [
    "#https://gist.github.com/tylerneylon/ce60e8a06e7506ac45788443f7269e40\n",
    "\n",
    "def read_idx(filename):\n",
    "    with open(filename, 'rb') as f:\n",
    "        zero, data_type, dims = struct.unpack('>HBB', f.read(4))\n",
    "        shape = tuple(struct.unpack('>I', f.read(4))[0] for d in range(dims))\n",
    "        return np.frombuffer(f.read(), dtype=np.uint8).reshape(shape)\n",
    "\n",
    "def show(ims, labels, ind):\n",
    "    ax = plt.imshow(train_im[ind])\n",
    "    plt.axis('off')\n",
    "    plt.title(train_label[ind])\n",
    "    plt.show()\n"
   ]
  },
  {
   "cell_type": "code",
   "execution_count": 199,
   "id": "20256c3d",
   "metadata": {
    "scrolled": true
   },
   "outputs": [],
   "source": [
    "train_ims = read_idx('data/train-images-idx3-ubyte')\n",
    "train_labels = read_idx('data/train-labels-idx1-ubyte')\n",
    "\n",
    "test_ims = read_idx('data/t10k-images-idx3-ubyte')\n",
    "test_labels = read_idx('data/t10k-labels-idx1-ubyte')"
   ]
  },
  {
   "cell_type": "code",
   "execution_count": 200,
   "id": "28bb8f8e",
   "metadata": {},
   "outputs": [
    {
     "data": {
      "image/png": "[encoded data removed]",
      "text/plain": [
       "<Figure size 432x288 with 1 Axes>"
      ]
     },
     "metadata": {
      "needs_background": "light"
     },
     "output_type": "display_data"
    }
   ],
   "source": [
    "show(train_ims, train_labels, 17)"
   ]
  },
  {
   "cell_type": "markdown",
   "id": "71196e49",
   "metadata": {},
   "source": [
    "This is more or less how the classifier works, see: https://scikit-learn.org/stable/modules/naive_bayes.html\n",
    "\n",
    "\\begin{align}\\begin{aligned}P(y \\mid x_1, \\dots, x_n) \\propto P(y) \\prod_{i=1}^{n} P(x_i \\mid y)\\\\\\Downarrow\\\\\\hat{y} = \\arg\\max_y P(y) \\prod_{i=1}^{n} P(x_i \\mid y),\\end{aligned}\\end{align}  \n",
    "\n",
    "So we need the class probabilites for each class, which are just their relative frequencies and the feature probabilities for each class. We use the log-sum trick to replace the multiplication with a sum over the logs. To keep things a bit easier we transform the pixel values into binary features by rounding. The better way would be use gaussians there."
   ]
  },
  {
   "cell_type": "code",
   "execution_count": 289,
   "id": "8be4b9e0",
   "metadata": {},
   "outputs": [],
   "source": [
    "class Classifier: \n",
    "\n",
    "    def __init__(self):\n",
    "        pass     \n",
    "    \n",
    "    def train(self, ims, labels):\n",
    "        \"\"\" \n",
    "        Trains the classifier \n",
    "        \"\"\"\n",
    "        self.class_probs = self.compute_class_probs(labels)\n",
    "        self.feature_probs = self.compute_feature_probs(labels,ims)\n",
    "        \n",
    "    \n",
    "    def compute_class_probs(self, labels):\n",
    "        \"\"\"\n",
    "        Returns the probabilities of each class\n",
    "        \"\"\"\n",
    "        _, counts = np.unique(labels, return_counts=True)\n",
    "        probs = counts / len(labels)\n",
    "        return probs\n",
    "    \n",
    "    \n",
    "    def compute_feature_probs(self, labels, ims):\n",
    "        \"\"\" \n",
    "        Returns the feature probabilities for each class\n",
    "        \"\"\"\n",
    "        \n",
    "        flattened = self.flatten(ims)\n",
    "        # we need to replace zeros with a small value to avoid division by 0 (smarter would be to elmininate empty features)\n",
    "        flattened = flattened + 0.0001\n",
    "        \n",
    "        fp = np.array([flattened[labels == n].sum(axis=0) for n in range(10)])\n",
    "        fp = fp / fp.sum(axis=0, keepdims=True)\n",
    "        fp = np.log(fp)\n",
    "        return fp \n",
    "    \n",
    "    def flatten(self, ims): \n",
    "        \"\"\"\"\n",
    "        Flattens a list of image matrices and converts values to 0/1 binary\n",
    "        \"\"\"\n",
    "        return np.array([np.round(x/255).flatten() for x in ims])\n",
    "    \n",
    "    def infer(self, ims):\n",
    "        flattened = self.flatten(ims)\n",
    "\n",
    "        return np.array([np.argmax(self.class_probs * self.feature_probs[:,i==1].sum(axis=1)) for i in flattened])\n",
    "    \n",
    "    def get_probs(self):\n",
    "        return self.class_probs, self.feature_probs\n"
   ]
  },
  {
   "cell_type": "code",
   "execution_count": 290,
   "id": "4bb841b5",
   "metadata": {},
   "outputs": [],
   "source": [
    "c = Classifier()\n",
    "c.train(train_im, train_label)"
   ]
  },
  {
   "cell_type": "code",
   "execution_count": 291,
   "id": "4ffdc760",
   "metadata": {},
   "outputs": [
    {
     "name": "stdout",
     "output_type": "stream",
     "text": [
      "0.6782\n"
     ]
    }
   ],
   "source": [
    "inferred_labels = c.infer(test_ims)\n",
    "acc = np.sum(inferred_labels == test_labels) / len(test_labels)\n",
    "print(acc)"
   ]
  },
  {
   "cell_type": "code",
   "execution_count": 292,
   "id": "057fea6d",
   "metadata": {},
   "outputs": [
    {
     "data": {
      "image/png": "[encoded data removed]",
      "text/plain": [
       "<Figure size 432x288 with 2 Axes>"
      ]
     },
     "metadata": {
      "needs_background": "light"
     },
     "output_type": "display_data"
    }
   ],
   "source": [
    "from sklearn.metrics import confusion_matrix\n",
    "cm = confusion_matrix(test_labels, inferred_labels)\n",
    "sns.heatmap(cm);"
   ]
  },
  {
   "cell_type": "code",
   "execution_count": null,
   "id": "79df3265",
   "metadata": {},
   "outputs": [],
   "source": [
    "0"
   ]
  }
 ],
 "metadata": {
  "kernelspec": {
   "display_name": "Python 3 (ipykernel)",
   "language": "python",
   "name": "python3"
  },
  "language_info": {
   "codemirror_mode": {
    "name": "ipython",
    "version": 3
   },
   "file_extension": ".py",
   "mimetype": "text/x-python",
   "name": "python",
   "nbconvert_exporter": "python",
   "pygments_lexer": "ipython3",
   "version": "3.9.7"
  }
 },
 "nbformat": 4,
 "nbformat_minor": 5
}
