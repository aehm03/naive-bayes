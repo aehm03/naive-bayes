{
 "cells": [
  {
   "cell_type": "code",
   "execution_count": 3,
   "id": "17ce644e",
   "metadata": {},
   "outputs": [],
   "source": [
    "import numpy as np\n",
    "import matplotlib.pyplot as plt\n",
    "import seaborn as sns\n",
    "\n",
    "from itertools import chain\n",
    "import struct"
   ]
  },
  {
   "cell_type": "code",
   "execution_count": 4,
   "id": "28e25bd6",
   "metadata": {},
   "outputs": [],
   "source": [
    "#https://gist.github.com/tylerneylon/ce60e8a06e7506ac45788443f7269e40\n",
    "\n",
    "def read_idx(filename):\n",
    "    with open(filename, 'rb') as f:\n",
    "        zero, data_type, dims = struct.unpack('>HBB', f.read(4))\n",
    "        shape = tuple(struct.unpack('>I', f.read(4))[0] for d in range(dims))\n",
    "        return np.frombuffer(f.read(), dtype=np.uint8).reshape(shape)\n",
    "\n",
    "def show(ims, labels, ind):\n",
    "    ax = plt.imshow(ims[ind])\n",
    "    plt.axis('off')\n",
    "    plt.title(labels[ind])\n",
    "    plt.show()\n"
   ]
  },
  {
   "cell_type": "code",
   "execution_count": 5,
   "id": "25947713",
   "metadata": {
    "scrolled": true
   },
   "outputs": [],
   "source": [
    "train_ims = read_idx('data/train-images-idx3-ubyte')\n",
    "train_labels = read_idx('data/train-labels-idx1-ubyte')\n",
    "\n",
    "test_ims = read_idx('data/t10k-images-idx3-ubyte')\n",
    "test_labels = read_idx('data/t10k-labels-idx1-ubyte')"
   ]
  },
  {
   "cell_type": "code",
   "execution_count": 6,
   "id": "5c58e9a7",
   "metadata": {},
   "outputs": [
    {
     "data": {
      "image/png": "[encoded data removed]",
      "text/plain": [
       "<Figure size 432x288 with 1 Axes>"
      ]
     },
     "metadata": {
      "needs_background": "light"
     },
     "output_type": "display_data"
    }
   ],
   "source": [
    "show(train_ims, train_labels, 17)"
   ]
  },
  {
   "cell_type": "markdown",
   "id": "39471522",
   "metadata": {},
   "source": [
    "This is more or less how the classifier works, see: https://scikit-learn.org/stable/modules/naive_bayes.html\n",
    "\n",
    "\\begin{align}\\begin{aligned}P(y \\mid x_1, \\dots, x_n) \\propto P(y) \\prod_{i=1}^{n} P(x_i \\mid y)\\\\\\Downarrow\\\\\\hat{y} = \\arg\\max_y P(y) \\prod_{i=1}^{n} P(x_i \\mid y),\\end{aligned}\\end{align}  \n",
    "\n",
    "So we need the class probabilites for each class, which are just their relative frequencies and the feature probabilities for each class. We use the log-sum trick to replace the multiplication with a sum over the logs. To keep things a bit easier we transform the pixel values into binary features by rounding and have . The better way would be use gaussians or to use some kind of binning."
   ]
  },
  {
   "cell_type": "code",
   "execution_count": 27,
   "id": "c778d10b",
   "metadata": {},
   "outputs": [],
   "source": [
    "class Classifier: \n",
    "\n",
    "    def __init__(self):\n",
    "        pass     \n",
    "    \n",
    "    def train(self, ims, labels):\n",
    "        \"\"\" \n",
    "        Trains the classifier \n",
    "        \"\"\"\n",
    "        self.class_probs = self.compute_class_probs(labels)\n",
    "        self.feature_probs = self.compute_feature_probs(labels,ims)\n",
    "        \n",
    "    \n",
    "    def compute_class_probs(self, labels):\n",
    "        \"\"\"\n",
    "        Returns the probabilities of each class\n",
    "        \"\"\"\n",
    "        _, counts = np.unique(labels, return_counts=True)\n",
    "        probs = counts / len(labels)\n",
    "        return np.log(probs)\n",
    "    \n",
    "    \n",
    "    def compute_feature_probs(self, labels, ims):\n",
    "        \"\"\" \n",
    "        Returns the feature probabilities for each class\n",
    "        \"\"\"\n",
    "        \n",
    "        flattened = self.flatten(ims)\n",
    "        classes, counts = np.unique(labels, return_counts=True)\n",
    "        counts = np.expand_dims(counts, -1)\n",
    "        \n",
    "        fp = np.array([flattened[labels == n].sum(axis=0) for n in classes])\n",
    "        \n",
    "        # I think this lacks still the normalization/smoothing term which is only added before the log\n",
    "        \n",
    "        #fp = fp / fp.sum(axis=1, keepdims=True)  # should be Multinomial Naive Bayes\n",
    "        fp = fp /  counts   # divide by counts should be Categorical Naive Bayes\n",
    "        \n",
    "        return fp \n",
    "    \n",
    "    def flatten(self, ims): \n",
    "        \"\"\"\"\n",
    "        Flattens a list of image matrices and converts values to 0/1 binary\n",
    "        \"\"\"\n",
    "        return np.array([(x>0).flatten() for x in ims])  # rounding or binnign would also be possible\n",
    "    \n",
    "    def infer(self, ims):\n",
    "        flattened = self.flatten(ims)\n",
    "\n",
    "        return np.array([np.argmax(self.class_probs \n",
    "                                   + np.sum(np.log(self.feature_probs[:,ex==1]+1e-9), axis=1)\n",
    "                                   + np.sum(np.log(1-self.feature_probs[:,ex==0]+1e-9), axis=1)  \n",
    "                                   ) for ex in flattened])\n",
    "    \n",
    "    def get_probs(self):\n",
    "        return self.class_probs, self.feature_probs\n"
   ]
  },
  {
   "cell_type": "code",
   "execution_count": 36,
   "id": "e74761c6",
   "metadata": {},
   "outputs": [],
   "source": [
    "classifier = Classifier()\n",
    "classifier.train(train_ims, train_labels)"
   ]
  },
  {
   "cell_type": "code",
   "execution_count": 37,
   "id": "f5ce4f02",
   "metadata": {},
   "outputs": [
    {
     "name": "stdout",
     "output_type": "stream",
     "text": [
      "0.842\n"
     ]
    }
   ],
   "source": [
    "inferred_labels = classifier.infer(test_ims)\n",
    "acc = np.sum(inferred_labels == test_labels) / len(test_labels)\n",
    "print(acc)"
   ]
  },
  {
   "cell_type": "code",
   "execution_count": 38,
   "id": "b77107e5",
   "metadata": {},
   "outputs": [
    {
     "data": {
      "image/png": "[encoded data removed]",
      "text/plain": [
       "<Figure size 432x288 with 2 Axes>"
      ]
     },
     "metadata": {
      "needs_background": "light"
     },
     "output_type": "display_data"
    }
   ],
   "source": [
    "from sklearn.metrics import confusion_matrix\n",
    "cm = confusion_matrix(test_labels, inferred_labels)\n",
    "sns.heatmap(cm);"
   ]
  },
  {
   "cell_type": "markdown",
   "id": "353cff42",
   "metadata": {},
   "source": [
    "# Visualize the features \n",
    "re-shaping the class features from the classifier shows what it learned."
   ]
  },
  {
   "cell_type": "code",
   "execution_count": 42,
   "id": "b31b1751",
   "metadata": {
    "scrolled": false
   },
   "outputs": [
    {
     "data": {
      "image/png": "[encoded data removed]",
      "text/plain": [
       "<Figure size 1440x360 with 10 Axes>"
      ]
     },
     "metadata": {
      "needs_background": "light"
     },
     "output_type": "display_data"
    }
   ],
   "source": [
    "class_probs, feature_probs = classifier.get_probs()\n",
    "fs = feature_probs.reshape([10,28,28])\n",
    "\n",
    "\n",
    "fig = plt.figure(figsize=(20, 5))\n",
    "axes = fig.subplots(nrows=2, ncols=5)\n",
    "for i in range(10):\n",
    "    r, c = i // 5, i % 5\n",
    "    axes[r][c].imshow(fs[i])\n",
    "    axes[r][c].set_title(i)\n",
    "   \n",
    "    axes[r][c].axis('off')\n",
    "plt.show()"
   ]
  },
  {
   "cell_type": "code",
   "execution_count": null,
   "id": "5c9781d4",
   "metadata": {},
   "outputs": [],
   "source": []
  }
 ],
 "metadata": {
  "kernelspec": {
   "display_name": "Python 3 (ipykernel)",
   "language": "python",
   "name": "python3"
  },
  "language_info": {
   "codemirror_mode": {
    "name": "ipython",
    "version": 3
   },
   "file_extension": ".py",
   "mimetype": "text/x-python",
   "name": "python",
   "nbconvert_exporter": "python",
   "pygments_lexer": "ipython3",
   "version": "3.9.7"
  }
 },
 "nbformat": 4,
 "nbformat_minor": 5
}
